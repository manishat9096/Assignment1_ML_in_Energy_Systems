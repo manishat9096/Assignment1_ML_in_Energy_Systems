{
 "cells": [
  {
   "cell_type": "code",
   "execution_count": null,
   "metadata": {},
   "outputs": [],
   "source": [
    "import pandas as pd\n",
    "import numpy as np\n",
    "import gurobipy as gb\n",
    "from gurobipy import GRB\n"
   ]
  },
  {
   "cell_type": "code",
   "execution_count": null,
   "metadata": {},
   "outputs": [],
   "source": [
    "#load all datasets from the excel files\n",
    "\n",
    "production_cost = pd.read_csv('Datasets/Production cost of generating units.csv')\n",
    "start_up_cost = pd.read_csv('Datasets/Start-up cost of generating units.csv')\n",
    "demand = pd.read_csv('Datasets/Loads.csv')\n",
    "B = pd.read_csv('Datasets/B (power transfer factor of each bus to each line).csv', sep= ';')\n",
    "line_capacity = pd.read_csv('Datasets/Transmission capacity of lines.csv')\n",
    "ramping_rate_gen = pd.read_csv('Datasets/Ramping rate of generating units.csv')\n",
    "wind_capacity = pd.read_csv('Datasets/Capacity of wind farms.csv')\n",
    "max_prod_limit = pd.read_csv('Datasets/Maximum production of generating units.csv')\n",
    "min_prod_limit = pd.read_csv('Datasets/Minimum production of generating units.csv')\n",
    "min_up_time = pd.read_csv('Datasets/Minimum up time of generating units.csv')\n",
    "min_down_time = pd.read_csv('Datasets/Minimum down time of generating units.csv')"
   ]
  },
  {
   "cell_type": "code",
   "execution_count": null,
   "metadata": {},
   "outputs": [],
   "source": [
    "# define length of dataset\n",
    "conventional_gen = ['G1', 'G2', 'G3']\n",
    "wind_gen = ['W1', 'W2']\n",
    "load_demand = ['D1', 'D2', 'D3']\n",
    "lines = ['L1', 'L2', 'L3', 'L4', 'L5', 'L6', 'L7']\n"
   ]
  },
  {
   "cell_type": "code",
   "execution_count": null,
   "metadata": {},
   "outputs": [],
   "source": [
    "production_cost.index = conventional_gen\n",
    "start_up_cost.index = conventional_gen\n",
    "max_prod_limit.index = conventional_gen\n",
    "min_prod_limit.index = conventional_gen\n",
    "min_up_time.index = conventional_gen\n",
    "min_down_time.index = conventional_gen\n",
    "ramping_rate_gen.index = conventional_gen\n",
    "demand.index = load_demand\n",
    "wind_capacity.index = wind_gen\n",
    "line_capacity.index = lines\n",
    "B.index = lines"
   ]
  },
  {
   "cell_type": "code",
   "execution_count": null,
   "metadata": {},
   "outputs": [],
   "source": [
    "# define the network topology - connect lines to bus\n",
    "Time = list(range(0, 24))"
   ]
  },
  {
   "cell_type": "code",
   "execution_count": null,
   "metadata": {},
   "outputs": [],
   "source": [
    "#define the optimization problem\n",
    "model = gb.Model('Unit Commitment Problem')"
   ]
  },
  {
   "cell_type": "code",
   "execution_count": null,
   "metadata": {},
   "outputs": [],
   "source": [
    "#define variables\n",
    "power_gen = { (g, t): model.addVar(lb = 0, name = f\"Power generated in Gen {g} at time {t}\")\n",
    "             for g in conventional_gen + wind_gen\n",
    "             for t in Time  \n",
    "            }\n",
    "\n",
    "commitment = { (g, t): model.addVar(vtype= GRB.BINARY, name = f\"Commitment of Gen {g} at time {t}\")\n",
    "              for g in conventional_gen + wind_gen\n",
    "             for t in Time\n",
    "             }\n",
    "\n",
    "start_up_gen_cost = { (g, t): model.addVar(lb = 0, name = f\"Start up cost of Gen {g} at time {t}\")\n",
    "                    for g in conventional_gen\n",
    "                    for t in Time\n",
    "                    }\n"
   ]
  },
  {
   "cell_type": "code",
   "execution_count": null,
   "metadata": {},
   "outputs": [],
   "source": [
    "# for g in wind_gen:\n",
    "#     production_cost.loc[g] = 0\n",
    "#     start_up_cost.loc[g] = 0\n",
    "# # define the objective function\n",
    "# cost1 =  gb.quicksum(production_cost[g] * power_gen[g][t] for g in conventional_gen + wind_gen for t in Time)\n",
    "# cost2 = gb.quicksum(start_up_gen_cost[g][t] for g in conventional_gen + wind_gen for t in Time)\n",
    "# model.setObjective(cost1 + cost2, GRB.MINIMIZE)\n"
   ]
  },
  {
   "cell_type": "code",
   "execution_count": null,
   "metadata": {},
   "outputs": [],
   "source": [
    "# define the objective function\n",
    "# considering the costs for wind generators are zero\n",
    "cost1 =  gb.quicksum(production_cost[g] * power_gen[g][t] for g in conventional_gen for t in Time)\n",
    "cost2 = gb.quicksum(start_up_gen_cost[g][t] for g in conventional_gen for t in Time)\n",
    "model.setObjective(cost1 + cost2, GRB.MINIMIZE)"
   ]
  },
  {
   "cell_type": "code",
   "execution_count": null,
   "metadata": {},
   "outputs": [],
   "source": [
    "production_cost"
   ]
  }
 ],
 "metadata": {
  "kernelspec": {
   "display_name": "base",
   "language": "python",
   "name": "python3"
  },
  "language_info": {
   "codemirror_mode": {
    "name": "ipython",
    "version": 3
   },
   "file_extension": ".py",
   "mimetype": "text/x-python",
   "name": "python",
   "nbconvert_exporter": "python",
   "pygments_lexer": "ipython3",
   "version": "3.11.4"
  }
 },
 "nbformat": 4,
 "nbformat_minor": 2
}

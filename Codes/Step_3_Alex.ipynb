{
 "cells": [
  {
   "metadata": {},
   "cell_type": "markdown",
   "source": "#Step 3) Linear Regression",
   "id": "5344a53177b851a1"
  },
  {
   "metadata": {},
   "cell_type": "markdown",
   "source": "## Imports",
   "id": "9133a49333d686f8"
  },
  {
   "metadata": {
    "ExecuteTime": {
     "end_time": "2024-09-28T16:56:56.148183Z",
     "start_time": "2024-09-28T16:56:56.143756Z"
    }
   },
   "cell_type": "code",
   "source": [
    "import numpy as np\n",
    "import matplotlib.pyplot as plt\n",
    "import plotly.graph_objects as go\n",
    "from plotly_resampler import FigureResampler, FigureWidgetResampler\n",
    "from plotly.subplots import make_subplots\n",
    "import pandas as pd\n",
    "import polars as pl\n",
    "import polars.selectors as cs\n",
    "from datetime import date\n",
    "\n",
    "from sklearn.linear_model import LinearRegression\n",
    "from sklearn.model_selection import train_test_split\n",
    "from sklearn.preprocessing import MinMaxScaler\n",
    "from sklearn.model_selection import cross_val_score, KFold\n",
    "from sklearn.metrics import make_scorer, mean_squared_error, mean_absolute_error\n",
    "import seaborn as sns\n",
    "\n",
    "from sklearn.preprocessing import StandardScaler\n",
    "import matplotlib.pyplot as plt\n",
    "\n",
    "%matplotlib inline"
   ],
   "id": "d2737d35a9442204",
   "outputs": [],
   "execution_count": 22
  },
  {
   "metadata": {},
   "cell_type": "markdown",
   "source": "## Data",
   "id": "68db2366b791dfdb"
  },
  {
   "metadata": {},
   "cell_type": "markdown",
   "source": "### Paths",
   "id": "a5bdd68c5e0dd15e"
  },
  {
   "metadata": {
    "ExecuteTime": {
     "end_time": "2024-09-28T16:56:56.179834Z",
     "start_time": "2024-09-28T16:56:56.177309Z"
    }
   },
   "cell_type": "code",
   "source": [
    "Bornholm_Network_Manager = r\"/home/adb/Documents/DTU/3rdTerm/MLES_Course/Bornholm Network Manager 23-09-2024 21-05-29.csv\"\n",
    "DMI_dataset = r\"/home/adb/Documents/DTU/3rdTerm/MLES_Course/DMI Bornholm 24-09-2024 01-07-21.csv\"\n",
    "Energinet_dataset = r\"/home/adb/Documents/DTU/3rdTerm/MLES_Course/Energiner Balancing Prices 24-09-2024 01-09-47.csv\"\n",
    "Forcast_norwegian_dataset = r\"/home/adb/Documents/DTU/3rdTerm/MLES_Course/Norwegian Forecast dataset.csv\""
   ],
   "id": "a17dce70720e1e74",
   "outputs": [],
   "execution_count": 23
  },
  {
   "metadata": {},
   "cell_type": "markdown",
   "source": "### Name columns",
   "id": "cd725151d447d8a0"
  },
  {
   "metadata": {
    "ExecuteTime": {
     "end_time": "2024-09-28T16:56:56.185488Z",
     "start_time": "2024-09-28T16:56:56.181277Z"
    }
   },
   "cell_type": "code",
   "source": [
    "time_cl = pl.col('time')\n",
    "kalby_active_power = pl.col('804120')\n",
    "#weather data\n",
    "max_temp = pl.col('406464')\n",
    "mean_temp = pl.col('406432')\n",
    "min_temp = pl.col('406480')\n",
    "accum_precip = pl.col('406656')\n",
    "mean_wind_speed = pl.col('406640')\n",
    "mean_wind_dirn = pl.col('406496')\n",
    "mean_humidity = pl.col('406448')\n",
    "#forecast data\n",
    "fr_wind_dirn = pl.col('128270')\n",
    "fr_accum_precip = pl.col('128238')\n",
    "fr_mean_humidity = pl.col('128254')\n",
    "fr_wind_speed = pl.col('128286')\n",
    "fr_mean_temp = pl.col('128190')\n",
    "#create column mappings\n",
    "prev_day_power = pl.col('prev_day_power')\n",
    "\n",
    "weekly_5th_quantile = pl.col(\"5thQuantile\")\n",
    "weekly_50th_quantile = pl.col(\"50thQuantile\")\n",
    "weekly_90th_quantile = pl.col(\"90thQuantile\")\n",
    "\n",
    "hourly_5th_quantile = pl.col(\"Hour_5thQuantile\")\n",
    "hourly_50th_quantile = pl.col(\"Hour_50thQuantile\")\n",
    "hourly_90th_quantile = pl.col(\"Hour_90thQuantile\")"
   ],
   "id": "441166a90b037741",
   "outputs": [],
   "execution_count": 24
  },
  {
   "metadata": {},
   "cell_type": "markdown",
   "source": "### Import Data nad Merging",
   "id": "1b11e05806a91d94"
  },
  {
   "metadata": {
    "ExecuteTime": {
     "end_time": "2024-09-28T16:56:56.982131Z",
     "start_time": "2024-09-28T16:56:56.186467Z"
    }
   },
   "cell_type": "code",
   "source": [
    "wind_data = pl.read_csv(Bornholm_Network_Manager , separator= ',')\n",
    "\n",
    "wind_data = wind_data.with_columns(\n",
    "    pl.col('ts').str.to_datetime(\"%Y-%m-%d %H:%M:%S\").alias('ts')\n",
    ")\n",
    "wind_data = wind_data.sort(pl.col('ts'))\n",
    "\n",
    "simplified_columns = {}\n",
    "new_col_wind = {} \n",
    "for c in wind_data.columns:\n",
    "\tnew_name = c.split(\"|\")[-1].strip()\n",
    "\tsimplified_columns[new_name] = c\n",
    "\tnew_col_wind[c] = new_name\n",
    " \n",
    "wind_data = wind_data.rename(new_col_wind)\n",
    "wind_data = wind_data.with_columns(\n",
    "    pl.col(\"ts\").dt.truncate(\"1h\").alias(\"time\")\n",
    ")\n",
    "wind_data = wind_data.group_by('time').agg(pl.all().mean())"
   ],
   "id": "707a0fb1a1d70c9",
   "outputs": [],
   "execution_count": 25
  },
  {
   "metadata": {
    "ExecuteTime": {
     "end_time": "2024-09-28T16:56:56.997493Z",
     "start_time": "2024-09-28T16:56:56.983088Z"
    }
   },
   "cell_type": "code",
   "source": [
    "dmi = pl.read_csv(DMI_dataset, separator= ',', ignore_errors= True)\n",
    "dmi = dmi.select(\n",
    "    pl.col('ts').str.to_datetime(\"%Y-%m-%d %H:%M:%S\"),\n",
    "    pl.exclude('ts')\n",
    ")\n",
    "dmi = dmi.sort(pl.col('ts'))\n",
    "\n",
    "simplified_columns = {}\n",
    "new_col_dmi = {} \n",
    "for c in dmi.columns:\n",
    "\tnew_name = c.split(\"|\")[-1].strip()\n",
    "\tsimplified_columns[new_name] = c\n",
    "\tnew_col_dmi[c] = new_name\n",
    "\n",
    "dmi = dmi.rename(new_col_dmi)\n",
    "dmi = dmi.with_columns(\n",
    "    pl.col(\"ts\").dt.truncate(\"1h\").alias(\"time\")\n",
    ")\n",
    "dmi = dmi.group_by('time').agg(pl.all().mean())"
   ],
   "id": "5e47cc85e6ea5f9e",
   "outputs": [],
   "execution_count": 26
  },
  {
   "metadata": {
    "ExecuteTime": {
     "end_time": "2024-09-28T16:56:57.012352Z",
     "start_time": "2024-09-28T16:56:56.998944Z"
    }
   },
   "cell_type": "code",
   "source": [
    "energinet = pl.read_csv(Energinet_dataset, separator=',', ignore_errors=True)\n",
    "\n",
    "# Simplify column names\n",
    "simplified_columns = {}\n",
    "new_col_energinet = {}\n",
    "\n",
    "for c in energinet.columns:\n",
    "    new_name = c.split(\"|\")[-1].strip()\n",
    "    simplified_columns[new_name] = c\n",
    "    new_col_energinet[c] = new_name\n",
    "\n",
    "# Rename columns to their simplified names\n",
    "energinet = energinet.rename(new_col_energinet)\n",
    "\n",
    "# Ensure datetime-related columns are of string type\n",
    "energinet = energinet.with_columns([\n",
    "    pl.col('ts').cast(pl.Utf8),\n",
    "    pl.col('804694').cast(pl.Utf8),\n",
    "    pl.col('804695').cast(pl.Utf8)\n",
    "])\n",
    "\n",
    "# Convert the columns to datetime format\n",
    "energinet = energinet.with_columns([\n",
    "    pl.col('ts').str.to_datetime(\"%Y-%m-%d %H:%M:%S\").alias('ts'),\n",
    "    pl.col('804694').str.to_datetime(\"%Y-%m-%d %H:%M:%S\").alias('804694'),\n",
    "    pl.col('804695').str.to_datetime(\"%Y-%m-%d %H:%M:%S\").alias('804695')\n",
    "])\n",
    "\n",
    "# Replace commas with periods for non-date columns and cast to Float64\n",
    "# Cast non-date columns to string first to perform the replacement\n",
    "non_date_columns = [col for col in energinet.columns if col not in ['ts', '804694', '804695', '804696']]\n",
    "\n",
    "# Convert non-date columns to string to allow string operations\n",
    "energinet = energinet.with_columns([\n",
    "    pl.col(column).cast(pl.Utf8) for column in non_date_columns\n",
    "])\n",
    "\n",
    "# Perform string replacement and cast to Float64\n",
    "energinet = energinet.with_columns([\n",
    "    pl.col(column).str.replace(\",\", \".\").cast(pl.Float64, strict=False) for column in non_date_columns\n",
    "])\n",
    "\n",
    "# Filter rows based on specific condition\n",
    "energinet = energinet.filter(pl.col('804696') == 'DK2')\n",
    "\n",
    "# Rename 'ts' column to 'time'\n",
    "energinet = energinet.rename({'ts': 'time'})\n",
    "\n",
    "# Truncate the 'time' column to hourly precision and add it back as a new column\n",
    "energinet = energinet.with_columns(\n",
    "    pl.col(\"time\").dt.truncate(\"1h\").alias(\"time\")\n",
    ")\n",
    "\n",
    "# Group by 'time' and calculate the mean for all other columns\n",
    "energinet = energinet.group_by('time').agg(pl.all().mean())"
   ],
   "id": "aa883da3bd1b6d05",
   "outputs": [],
   "execution_count": 27
  },
  {
   "metadata": {
    "ExecuteTime": {
     "end_time": "2024-09-28T16:56:57.020950Z",
     "start_time": "2024-09-28T16:56:57.013355Z"
    }
   },
   "cell_type": "code",
   "source": [
    "forecast = pl.read_csv(Forcast_norwegian_dataset , separator= ',', ignore_errors= True)\n",
    "\n",
    "forecast = forecast.select(\n",
    "    pl.col('ts').str.to_datetime(\"%Y-%m-%d %H:%M:%S\"),\n",
    "    pl.exclude('ts')\n",
    ")\n",
    "simplified_columns = {}\n",
    "new_col_forecast = {} \n",
    "for c in forecast.columns:\n",
    "\tnew_name = c.split(\"|\")[-1].strip()\n",
    "\tsimplified_columns[new_name] = c\n",
    "\tnew_col_forecast[c] = new_name\n",
    "\n",
    "forecast = forecast.rename(new_col_forecast)\n",
    "\n",
    "forecast = forecast.rename({'ts':'time'})\n",
    "forecast = forecast.with_columns(\n",
    "    pl.col(\"time\").dt.truncate(\"1h\").alias(\"time\")\n",
    ")\n",
    "forecast = forecast.group_by('time').agg(pl.all().mean())"
   ],
   "id": "a9775db535f5550f",
   "outputs": [],
   "execution_count": 28
  },
  {
   "metadata": {
    "ExecuteTime": {
     "end_time": "2024-09-28T16:56:57.028765Z",
     "start_time": "2024-09-28T16:56:57.021641Z"
    }
   },
   "cell_type": "code",
   "source": [
    "# merge all datasets into one\n",
    "temp1 = wind_data.join(dmi, on = 'time', how = 'left', validate= 'm:1')\n",
    "cumulative_dataset = temp1.join(forecast, on = 'time', how = 'left', validate= 'm:1')\n",
    "#cumulative_dataset = temp2.join(energinet, on='time', how = 'left', validate = 'm:1')\n",
    "cumulative_dataset = cumulative_dataset.drop('ts', 'ts_right')\n",
    "cumulative_dataset = cumulative_dataset.drop_nulls(subset = ['804120'])\n",
    "cumulative_dataset = cumulative_dataset.with_columns(kalby_active_power.shift(24).alias('prev_day_power'))"
   ],
   "id": "9cc5b28e7f61b923",
   "outputs": [],
   "execution_count": 29
  },
  {
   "metadata": {},
   "cell_type": "markdown",
   "source": "### Adding Quantiles",
   "id": "29b20369c37cad80"
  },
  {
   "metadata": {
    "ExecuteTime": {
     "end_time": "2024-09-28T16:56:57.033821Z",
     "start_time": "2024-09-28T16:56:57.029535Z"
    }
   },
   "cell_type": "code",
   "source": [
    "#quantile of the week ahead of that data point\n",
    "cumulative_dataset = cumulative_dataset.sort(\"time\")\n",
    "df = cumulative_dataset.rolling(index_column= 'time', period='1w').agg([\n",
    "        pl.quantile(\"804120\", 0.05).alias(\"5thQuantile\"),\n",
    "        pl.quantile(\"804120\", 0.50).alias(\"50thQuantile\"),\n",
    "        pl.quantile(\"804120\", 0.95).alias(\"90thQuantile\"),\n",
    "])\n",
    "cumulative_dataset = cumulative_dataset.join(df, on=\"time\", how=\"left\")"
   ],
   "id": "944839acded75216",
   "outputs": [],
   "execution_count": 30
  },
  {
   "metadata": {
    "ExecuteTime": {
     "end_time": "2024-09-28T16:56:57.059487Z",
     "start_time": "2024-09-28T16:56:57.034517Z"
    }
   },
   "cell_type": "code",
   "source": [
    "#quantile of the hour of the day for the previous week\n",
    "cumulative_dataset = cumulative_dataset.with_columns(pl.col(\"time\").dt.hour().alias(\"hour_of_day\"))\n",
    "cumulative_dataset = cumulative_dataset.with_columns([\n",
    "    pl.lit(None).cast(pl.Float64).alias(\"Hour_5thQuantile\"),\n",
    "    pl.lit(None).cast(pl.Float64).alias(\"Hour_50thQuantile\"),\n",
    "    pl.lit(None).cast(pl.Float64).alias(\"Hour_90thQuantile\"),\n",
    "])\n",
    "rolling_quantile_hourly = pl.DataFrame()\n",
    "for hour in range(24):  \n",
    "    hour_df = cumulative_dataset.filter(pl.col(\"time\").dt.hour() == hour)\n",
    "    rolling_quantiles = (hour_df.rolling(index_column=\"time\", period=\"1w\").agg([\n",
    "            pl.quantile(\"804120\", 0.05).alias(\"Hour_5thQuantile\"),\n",
    "            pl.quantile(\"804120\", 0.50).alias(\"Hour_50thQuantile\"),\n",
    "            pl.quantile(\"804120\", 0.95).alias(\"Hour_90thQuantile\"),\n",
    "        ]))\n",
    "    rolling_quantile_hourly = pl.concat([rolling_quantile_hourly, rolling_quantiles], how=\"vertical\")\n",
    "rolling_quantile_hourly = rolling_quantile_hourly.sort(\"time\")\n",
    "\n",
    "for quantile_col in [\"Hour_5thQuantile\", \"Hour_50thQuantile\", \"Hour_90thQuantile\"]:\n",
    "    cumulative_dataset = cumulative_dataset.with_columns(\n",
    "        pl.when(cumulative_dataset[\"time\"].is_in(rolling_quantile_hourly[\"time\"]))\n",
    "          .then(rolling_quantile_hourly[quantile_col])\n",
    "          .otherwise(pl.col(quantile_col)).alias(quantile_col)\n",
    "    )"
   ],
   "id": "c84898b9d083fa31",
   "outputs": [],
   "execution_count": 31
  },
  {
   "metadata": {},
   "cell_type": "markdown",
   "source": "## Linear Regression - Gradien descent algorithm",
   "id": "3c5c881701b20d10"
  },
  {
   "metadata": {},
   "cell_type": "markdown",
   "source": "### Linear Regression",
   "id": "a90386b9672d9167"
  },
  {
   "metadata": {
    "ExecuteTime": {
     "end_time": "2024-09-28T17:54:09.683839Z",
     "start_time": "2024-09-28T17:54:09.678300Z"
    }
   },
   "cell_type": "code",
   "source": "cumulative_dataset",
   "id": "d4e6f24fe2f2ebe",
   "outputs": [
    {
     "data": {
      "text/plain": [
       "shape: (1_495, 49)\n",
       "┌───────────┬───────────┬───────────┬───────────┬───┬───────────┬───────────┬───────────┬──────────┐\n",
       "│ time      ┆ 804118    ┆ 804121    ┆ 804130    ┆ … ┆ hour_of_d ┆ Hour_5thQ ┆ Hour_50th ┆ Hour_90t │\n",
       "│ ---       ┆ ---       ┆ ---       ┆ ---       ┆   ┆ ay        ┆ uantile   ┆ Quantile  ┆ hQuantil │\n",
       "│ datetime[ ┆ f64       ┆ f64       ┆ f64       ┆   ┆ ---       ┆ ---       ┆ ---       ┆ e        │\n",
       "│ μs]       ┆           ┆           ┆           ┆   ┆ i8        ┆ f64       ┆ f64       ┆ ---      │\n",
       "│           ┆           ┆           ┆           ┆   ┆           ┆           ┆           ┆ f64      │\n",
       "╞═══════════╪═══════════╪═══════════╪═══════════╪═══╪═══════════╪═══════════╪═══════════╪══════════╡\n",
       "│ 2023-09-2 ┆ 66.24857  ┆ 10.575291 ┆ 35.80635  ┆ … ┆ 0         ┆ -992.2974 ┆ -63.81669 ┆ -63.8166 │\n",
       "│ 4         ┆           ┆           ┆           ┆   ┆           ┆ 92        ┆ 9         ┆ 99       │\n",
       "│ 00:00:00  ┆           ┆           ┆           ┆   ┆           ┆           ┆           ┆          │\n",
       "│ 2023-09-2 ┆ 20.046875 ┆ 10.554318 ┆ 25.300757 ┆ … ┆ 2         ┆ -616.6776 ┆ 27.698952 ┆ 27.69895 │\n",
       "│ 4         ┆           ┆           ┆           ┆   ┆           ┆ 21        ┆           ┆ 2        │\n",
       "│ 02:00:00  ┆           ┆           ┆           ┆   ┆           ┆           ┆           ┆          │\n",
       "│ 2023-09-2 ┆ -0.200195 ┆ 10.623122 ┆ 17.18536  ┆ … ┆ 3         ┆ -486.4133 ┆ 16.849284 ┆ 16.84928 │\n",
       "│ 4         ┆           ┆           ┆           ┆   ┆           ┆ 39        ┆           ┆ 4        │\n",
       "│ 03:00:00  ┆           ┆           ┆           ┆   ┆           ┆           ┆           ┆          │\n",
       "│ 2023-09-2 ┆ 33.714419 ┆ 10.689291 ┆ 22.160196 ┆ … ┆ 4         ┆ -695.0995 ┆ -24.62017 ┆ -24.6201 │\n",
       "│ 4         ┆           ┆           ┆           ┆   ┆           ┆ 97        ┆ 1         ┆ 71       │\n",
       "│ 04:00:00  ┆           ┆           ┆           ┆   ┆           ┆           ┆           ┆          │\n",
       "│ 2023-09-2 ┆ 33.899776 ┆ 10.671746 ┆ 25.35527  ┆ … ┆ 5         ┆ -785.0939 ┆ -355.1704 ┆ -355.170 │\n",
       "│ 4         ┆           ┆           ┆           ┆   ┆           ┆ 92        ┆ 6         ┆ 46       │\n",
       "│ 05:00:00  ┆           ┆           ┆           ┆   ┆           ┆           ┆           ┆          │\n",
       "│ …         ┆ …         ┆ …         ┆ …         ┆ … ┆ …         ┆ …         ┆ …         ┆ …        │\n",
       "│ 2023-12-3 ┆ 289.07963 ┆ 10.510371 ┆ 23.174519 ┆ … ┆ 15        ┆ -5862.892 ┆ -3375.687 ┆ -205.938 │\n",
       "│ 1         ┆ 1         ┆           ┆           ┆   ┆           ┆ 008       ┆ 861       ┆ 442      │\n",
       "│ 15:00:00  ┆           ┆           ┆           ┆   ┆           ┆           ┆           ┆          │\n",
       "│ 2023-12-3 ┆ 347.52625 ┆ 10.665835 ┆ 25.832255 ┆ … ┆ 16        ┆ -5864.829 ┆ -3733.434 ┆ 15.78374 │\n",
       "│ 1         ┆ 1         ┆           ┆           ┆   ┆           ┆ 615       ┆ 883       ┆ 6        │\n",
       "│ 16:00:00  ┆           ┆           ┆           ┆   ┆           ┆           ┆           ┆          │\n",
       "│ 2023-12-3 ┆ 413.03684 ┆ 10.596637 ┆ 26.922159 ┆ … ┆ 17        ┆ -5892.162 ┆ -4034.911 ┆ 21.11187 │\n",
       "│ 1         ┆ 1         ┆           ┆           ┆   ┆           ┆ 003       ┆ 338       ┆ 1        │\n",
       "│ 17:00:00  ┆           ┆           ┆           ┆   ┆           ┆           ┆           ┆          │\n",
       "│ 2023-12-3 ┆ 450.10395 ┆ 10.634602 ┆ 25.355613 ┆ … ┆ 18        ┆ -5848.593 ┆ -4054.750 ┆ 15.25113 │\n",
       "│ 1         ┆ 3         ┆           ┆           ┆   ┆           ┆ 367       ┆ 221       ┆ 9        │\n",
       "│ 18:00:00  ┆           ┆           ┆           ┆   ┆           ┆           ┆           ┆          │\n",
       "│ 2023-12-3 ┆ 439.54394 ┆ 10.650838 ┆ 24.535186 ┆ … ┆ 19        ┆ -5780.415 ┆ -4188.565 ┆ -227.586 │\n",
       "│ 1         ┆ 5         ┆           ┆           ┆   ┆           ┆ 167       ┆ 646       ┆ 914      │\n",
       "│ 19:00:00  ┆           ┆           ┆           ┆   ┆           ┆           ┆           ┆          │\n",
       "└───────────┴───────────┴───────────┴───────────┴───┴───────────┴───────────┴───────────┴──────────┘"
      ],
      "text/html": [
       "<div><style>\n",
       ".dataframe > thead > tr,\n",
       ".dataframe > tbody > tr {\n",
       "  text-align: right;\n",
       "  white-space: pre-wrap;\n",
       "}\n",
       "</style>\n",
       "<small>shape: (1_495, 49)</small><table border=\"1\" class=\"dataframe\"><thead><tr><th>time</th><th>804118</th><th>804121</th><th>804130</th><th>804131</th><th>804133</th><th>804119</th><th>804120</th><th>804132</th><th>804123</th><th>804124</th><th>804125</th><th>804126</th><th>804128</th><th>804116</th><th>804117</th><th>406464</th><th>406608</th><th>406576</th><th>406592</th><th>406512</th><th>406672</th><th>406480</th><th>406560</th><th>406432</th><th>406448</th><th>406640</th><th>406496</th><th>406656</th><th>406544</th><th>406624</th><th>128206</th><th>128270</th><th>128238</th><th>128254</th><th>128286</th><th>128318</th><th>128334</th><th>128222</th><th>128302</th><th>128190</th><th>prev_day_power</th><th>5thQuantile</th><th>50thQuantile</th><th>90thQuantile</th><th>hour_of_day</th><th>Hour_5thQuantile</th><th>Hour_50thQuantile</th><th>Hour_90thQuantile</th></tr><tr><td>datetime[μs]</td><td>f64</td><td>f64</td><td>f64</td><td>f64</td><td>f64</td><td>f64</td><td>f64</td><td>f64</td><td>f64</td><td>f64</td><td>f64</td><td>f64</td><td>f64</td><td>f64</td><td>f64</td><td>f64</td><td>f64</td><td>f64</td><td>f64</td><td>f64</td><td>f64</td><td>f64</td><td>f64</td><td>f64</td><td>f64</td><td>f64</td><td>f64</td><td>f64</td><td>f64</td><td>f64</td><td>f64</td><td>f64</td><td>f64</td><td>f64</td><td>f64</td><td>f64</td><td>f64</td><td>f64</td><td>f64</td><td>f64</td><td>f64</td><td>f64</td><td>f64</td><td>f64</td><td>i8</td><td>f64</td><td>f64</td><td>f64</td></tr></thead><tbody><tr><td>2023-09-24 00:00:00</td><td>66.24857</td><td>10.575291</td><td>35.80635</td><td>0.600357</td><td>10.416617</td><td>9.479822</td><td>-992.297492</td><td>10.536577</td><td>2.913467</td><td>53.015314</td><td>10.582267</td><td>70.842117</td><td>-1276.589675</td><td>22.657324</td><td>164.828908</td><td>14.6</td><td>15.1</td><td>88.0</td><td>15.4</td><td>3.9</td><td>0.0</td><td>13.4</td><td>15.3</td><td>13.9</td><td>88.0</td><td>9.6</td><td>263.0</td><td>0.0</td><td>0.0</td><td>263.0</td><td>287.382141</td><td>263.289215</td><td>0.0</td><td>0.833076</td><td>4.098275</td><td>0.4740181</td><td>0.0</td><td>287.382141</td><td>4.070683</td><td>287.382141</td><td>-63.816699</td><td>-3342.852442</td><td>-1704.769512</td><td>16.849284</td><td>0</td><td>-992.297492</td><td>-63.816699</td><td>-63.816699</td></tr><tr><td>2023-09-24 02:00:00</td><td>20.046875</td><td>10.554318</td><td>25.300757</td><td>0.440403</td><td>10.401631</td><td>7.595097</td><td>-616.677621</td><td>10.543838</td><td>2.568676</td><td>34.383038</td><td>10.557171</td><td>30.441101</td><td>-559.408799</td><td>-0.200195</td><td>144.348176</td><td>13.9</td><td>14.5</td><td>86.0</td><td>15.0</td><td>2.8</td><td>0.0</td><td>12.7</td><td>14.7</td><td>13.3</td><td>91.0</td><td>8.8</td><td>270.0</td><td>0.0</td><td>0.0</td><td>274.0</td><td>287.324127</td><td>277.60965</td><td>0.000732</td><td>0.8084327</td><td>3.486143</td><td>-0.466187</td><td>0.0</td><td>287.104645</td><td>3.454524</td><td>287.283356</td><td>27.698952</td><td>-3342.852442</td><td>-1642.692413</td><td>16.849284</td><td>2</td><td>-616.677621</td><td>27.698952</td><td>27.698952</td></tr><tr><td>2023-09-24 03:00:00</td><td>-0.200195</td><td>10.623122</td><td>17.18536</td><td>0.303738</td><td>10.41728</td><td>6.463527</td><td>-486.413339</td><td>10.64803</td><td>2.290617</td><td>24.914061</td><td>10.619526</td><td>27.621594</td><td>-532.381595</td><td>-0.200195</td><td>131.329017</td><td>13.7</td><td>14.3</td><td>85.0</td><td>14.7</td><td>2.7</td><td>0.0</td><td>12.4</td><td>14.5</td><td>13.0</td><td>88.0</td><td>8.9</td><td>289.0</td><td>0.0</td><td>0.0</td><td>275.0</td><td>286.572021</td><td>293.804749</td><td>0.0</td><td>0.862891</td><td>3.64197</td><td>-1.474241</td><td>0.0</td><td>286.572021</td><td>3.330217</td><td>286.572021</td><td>16.849284</td><td>-3342.852442</td><td>-1182.01597</td><td>16.849284</td><td>3</td><td>-486.413339</td><td>16.849284</td><td>16.849284</td></tr><tr><td>2023-09-24 04:00:00</td><td>33.714419</td><td>10.689291</td><td>22.160196</td><td>0.390465</td><td>10.459208</td><td>8.765145</td><td>-695.099597</td><td>10.655843</td><td>2.959342</td><td>37.52429</td><td>10.690517</td><td>46.526167</td><td>-808.748771</td><td>18.523996</td><td>168.58356</td><td>12.5</td><td>14.3</td><td>79.0</td><td>14.5</td><td>2.7</td><td>0.0</td><td>11.3</td><td>14.4</td><td>12.2</td><td>90.0</td><td>9.3</td><td>280.0</td><td>0.0</td><td>0.0</td><td>276.0</td><td>286.585876</td><td>292.031372</td><td>0.0</td><td>0.807304</td><td>2.5124886</td><td>-0.945663</td><td>0.0</td><td>285.69342</td><td>2.327836</td><td>285.693787</td><td>-24.620171</td><td>-3342.852442</td><td>-1182.01597</td><td>16.849284</td><td>4</td><td>-695.099597</td><td>-24.620171</td><td>-24.620171</td></tr><tr><td>2023-09-24 05:00:00</td><td>33.899776</td><td>10.671746</td><td>25.35527</td><td>0.433801</td><td>10.42126</td><td>9.08325</td><td>-785.093992</td><td>10.625568</td><td>2.341989</td><td>43.939932</td><td>10.676717</td><td>36.564837</td><td>-666.880931</td><td>22.177468</td><td>133.025807</td><td>11.6</td><td>14.0</td><td>79.0</td><td>14.4</td><td>0.7</td><td>0.0</td><td>10.6</td><td>14.2</td><td>11.3</td><td>93.0</td><td>8.8</td><td>268.0</td><td>0.0</td><td>2.0</td><td>274.0</td><td>285.661652</td><td>287.296997</td><td>0.0</td><td>0.839972</td><td>1.977677</td><td>-0.590193</td><td>1136.0</td><td>284.620392</td><td>1.887517</td><td>284.618713</td><td>-355.17046</td><td>-3342.852442</td><td>-1117.005853</td><td>16.849284</td><td>5</td><td>-785.093992</td><td>-355.17046</td><td>-355.17046</td></tr><tr><td>&hellip;</td><td>&hellip;</td><td>&hellip;</td><td>&hellip;</td><td>&hellip;</td><td>&hellip;</td><td>&hellip;</td><td>&hellip;</td><td>&hellip;</td><td>&hellip;</td><td>&hellip;</td><td>&hellip;</td><td>&hellip;</td><td>&hellip;</td><td>&hellip;</td><td>&hellip;</td><td>&hellip;</td><td>&hellip;</td><td>&hellip;</td><td>&hellip;</td><td>&hellip;</td><td>&hellip;</td><td>&hellip;</td><td>&hellip;</td><td>&hellip;</td><td>&hellip;</td><td>&hellip;</td><td>&hellip;</td><td>&hellip;</td><td>&hellip;</td><td>&hellip;</td><td>&hellip;</td><td>&hellip;</td><td>&hellip;</td><td>&hellip;</td><td>&hellip;</td><td>&hellip;</td><td>&hellip;</td><td>&hellip;</td><td>&hellip;</td><td>&hellip;</td><td>&hellip;</td><td>&hellip;</td><td>&hellip;</td><td>&hellip;</td><td>&hellip;</td><td>&hellip;</td><td>&hellip;</td><td>&hellip;</td></tr><tr><td>2023-12-31 15:00:00</td><td>289.079631</td><td>10.510371</td><td>23.174519</td><td>0.41335</td><td>10.395288</td><td>17.965764</td><td>-3920.48124</td><td>10.539872</td><td>4.012301</td><td>215.115552</td><td>10.52205</td><td>144.955792</td><td>-2621.305346</td><td>245.356567</td><td>226.836009</td><td>4.6</td><td>4.5</td><td>95.0</td><td>4.9</td><td>6.9</td><td>0.0</td><td>4.0</td><td>4.7</td><td>4.3</td><td>94.0</td><td>2.7</td><td>112.0</td><td>0.0</td><td>7.0</td><td>95.0</td><td>276.803314</td><td>123.993317</td><td>0.042969</td><td>0.972403</td><td>4.200697</td><td>2.352389</td><td>887296.0</td><td>276.606018</td><td>-3.479454</td><td>276.606567</td><td>-3320.973983</td><td>-5864.52806</td><td>-4173.361483</td><td>-205.938442</td><td>15</td><td>-5862.892008</td><td>-3375.687861</td><td>-205.938442</td></tr><tr><td>2023-12-31 16:00:00</td><td>347.526251</td><td>10.665835</td><td>25.832255</td><td>0.455874</td><td>10.37784</td><td>18.372657</td><td>-3684.654366</td><td>10.641892</td><td>4.174261</td><td>198.741247</td><td>10.685093</td><td>156.971515</td><td>-2908.493815</td><td>224.572548</td><td>236.852216</td><td>4.4</td><td>4.4</td><td>94.0</td><td>4.7</td><td>7.0</td><td>0.0</td><td>4.0</td><td>4.6</td><td>4.2</td><td>94.0</td><td>2.7</td><td>109.0</td><td>0.0</td><td>1.0</td><td>100.0</td><td>276.640625</td><td>123.468811</td><td>0.042969</td><td>0.974264</td><td>4.474082</td><td>2.472234</td><td>887296.0</td><td>276.583374</td><td>-3.728609</td><td>276.639984</td><td>-2846.742341</td><td>-5864.52806</td><td>-4173.361483</td><td>-205.938442</td><td>16</td><td>-5864.829615</td><td>-3733.434883</td><td>15.783746</td></tr><tr><td>2023-12-31 17:00:00</td><td>413.036841</td><td>10.596637</td><td>26.922159</td><td>0.481187</td><td>10.428541</td><td>21.537519</td><td>-3998.991685</td><td>10.643252</td><td>5.325372</td><td>219.283632</td><td>10.626334</td><td>173.710105</td><td>-3174.659645</td><td>247.371666</td><td>299.610278</td><td>4.5</td><td>4.6</td><td>93.0</td><td>4.8</td><td>6.6</td><td>0.0</td><td>4.2</td><td>4.7</td><td>4.4</td><td>93.0</td><td>2.9</td><td>110.0</td><td>0.0</td><td>1.0</td><td>97.0</td><td>276.781006</td><td>125.61808</td><td>0.041992</td><td>0.967367</td><td>4.722065</td><td>2.754479</td><td>887296.0</td><td>276.644104</td><td>-3.835772</td><td>276.780334</td><td>-2842.384146</td><td>-5864.52806</td><td>-4168.112876</td><td>-205.938442</td><td>17</td><td>-5892.162003</td><td>-4034.911338</td><td>21.111871</td></tr><tr><td>2023-12-31 18:00:00</td><td>450.103953</td><td>10.634602</td><td>25.355613</td><td>0.455984</td><td>10.282962</td><td>20.790995</td><td>-4054.750221</td><td>10.621882</td><td>4.841764</td><td>220.235819</td><td>10.635427</td><td>174.695485</td><td>-3216.107337</td><td>253.034556</td><td>278.043993</td><td>4.7</td><td>4.6</td><td>93.0</td><td>4.9</td><td>6.6</td><td>0.0</td><td>4.4</td><td>4.7</td><td>4.6</td><td>92.0</td><td>2.9</td><td>108.0</td><td>0.0</td><td>1.0</td><td>97.0</td><td>276.831055</td><td>127.103386</td><td>0.042969</td><td>0.960425</td><td>4.836522</td><td>2.921968</td><td>887296.0</td><td>276.780548</td><td>-3.853605</td><td>276.828949</td><td>-2673.011998</td><td>-5864.52806</td><td>-4149.141983</td><td>-205.938442</td><td>18</td><td>-5848.593367</td><td>-4054.750221</td><td>15.251139</td></tr><tr><td>2023-12-31 19:00:00</td><td>439.543945</td><td>10.650838</td><td>24.535186</td><td>0.43949</td><td>10.341646</td><td>20.689413</td><td>-3635.746226</td><td>10.553334</td><td>4.781627</td><td>198.679722</td><td>10.666952</td><td>171.209851</td><td>-3149.27636</td><td>203.475116</td><td>273.488952</td><td>4.8</td><td>4.7</td><td>93.0</td><td>4.9</td><td>7.1</td><td>0.0</td><td>4.5</td><td>4.8</td><td>4.7</td><td>92.0</td><td>2.8</td><td>116.0</td><td>0.0</td><td>1.0</td><td>97.0</td><td>276.854553</td><td>132.352417</td><td>0.044922</td><td>0.956854</td><td>5.082065</td><td>3.427763</td><td>887296.0</td><td>276.832764</td><td>-3.751518</td><td>276.836273</td><td>-1907.454722</td><td>-5864.52806</td><td>-4123.475456</td><td>-205.938442</td><td>19</td><td>-5780.415167</td><td>-4188.565646</td><td>-227.586914</td></tr></tbody></table></div>"
      ]
     },
     "execution_count": 50,
     "metadata": {},
     "output_type": "execute_result"
    }
   ],
   "execution_count": 50
  },
  {
   "metadata": {
    "ExecuteTime": {
     "end_time": "2024-09-28T17:54:06.081277Z",
     "start_time": "2024-09-28T17:54:06.077952Z"
    }
   },
   "cell_type": "code",
   "source": "cumulative_dataset = cumulative_dataset.drop_nulls()",
   "id": "5d9ce9408067d44c",
   "outputs": [],
   "execution_count": 49
  },
  {
   "metadata": {
    "ExecuteTime": {
     "end_time": "2024-09-28T17:52:44.014150Z",
     "start_time": "2024-09-28T17:52:44.002010Z"
    }
   },
   "cell_type": "code",
   "source": "cumulative_dataset.drop_na()",
   "id": "98592cf047535261",
   "outputs": [
    {
     "ename": "AttributeError",
     "evalue": "'DataFrame' object has no attribute 'drop_na'",
     "output_type": "error",
     "traceback": [
      "\u001B[0;31m---------------------------------------------------------------------------\u001B[0m",
      "\u001B[0;31mAttributeError\u001B[0m                            Traceback (most recent call last)",
      "Cell \u001B[0;32mIn[45], line 1\u001B[0m\n\u001B[0;32m----> 1\u001B[0m cumulative_dataset\u001B[38;5;241m.\u001B[39mdrop_na()\n",
      "\u001B[0;31mAttributeError\u001B[0m: 'DataFrame' object has no attribute 'drop_na'"
     ]
    }
   ],
   "execution_count": 45
  },
  {
   "metadata": {},
   "cell_type": "markdown",
   "source": [
    "Linear regression aims to model the relationship between a dependent variable (target = wind power production) y, and several independent variables (features) X. The goal is to find the best-fitting linear equation that predicts y based on X.\n",
    "\n",
    "$$\n",
    "y = \\theta_0 + \\theta_1 X_1 + \\theta_2 X_2 + \\ldots + \\theta_n X_n\n",
    "$$\n",
    "\n",
    "theta 0 is the bias thetas are the weights"
   ],
   "id": "d6f052b8773f25fb"
  },
  {
   "metadata": {
    "ExecuteTime": {
     "end_time": "2024-09-28T17:45:13.887094Z",
     "start_time": "2024-09-28T17:45:13.871133Z"
    }
   },
   "cell_type": "code",
   "source": [
    "X = cumulative_dataset.drop(['804120']) # Features (excluding the target column)\n",
    "y = cumulative_dataset['804120'].reshape(-1, 1) # Target variable\n",
    "\n",
    "# Add a column of ones to include the bias term (intercept) in the calculation\n",
    "X_b = np.c_[np.ones((X.shape[0], 1)), X] # X_b = [[1, x1], [1, x2], ..., [1, xn]]"
   ],
   "id": "3c8f5364327bd252",
   "outputs": [
    {
     "ename": "TypeError",
     "evalue": "Series.reshape() takes 2 positional arguments but 3 were given",
     "output_type": "error",
     "traceback": [
      "\u001B[0;31m---------------------------------------------------------------------------\u001B[0m",
      "\u001B[0;31mTypeError\u001B[0m                                 Traceback (most recent call last)",
      "Cell \u001B[0;32mIn[39], line 2\u001B[0m\n\u001B[1;32m      1\u001B[0m X \u001B[38;5;241m=\u001B[39m cumulative_dataset\u001B[38;5;241m.\u001B[39mdrop([\u001B[38;5;124m'\u001B[39m\u001B[38;5;124m804120\u001B[39m\u001B[38;5;124m'\u001B[39m]) \u001B[38;5;66;03m# Features (excluding the target column)\u001B[39;00m\n\u001B[0;32m----> 2\u001B[0m y \u001B[38;5;241m=\u001B[39m cumulative_dataset[\u001B[38;5;124m'\u001B[39m\u001B[38;5;124m804120\u001B[39m\u001B[38;5;124m'\u001B[39m]\u001B[38;5;241m.\u001B[39mreshape(\u001B[38;5;241m-\u001B[39m\u001B[38;5;241m1\u001B[39m, \u001B[38;5;241m1\u001B[39m) \u001B[38;5;66;03m# Target variable\u001B[39;00m\n\u001B[1;32m      4\u001B[0m \u001B[38;5;66;03m# Add a column of ones to include the bias term (intercept) in the calculation\u001B[39;00m\n\u001B[1;32m      5\u001B[0m X_b \u001B[38;5;241m=\u001B[39m np\u001B[38;5;241m.\u001B[39mc_[np\u001B[38;5;241m.\u001B[39mones((X\u001B[38;5;241m.\u001B[39mshape[\u001B[38;5;241m0\u001B[39m], \u001B[38;5;241m1\u001B[39m)), X]\n",
      "\u001B[0;31mTypeError\u001B[0m: Series.reshape() takes 2 positional arguments but 3 were given"
     ]
    }
   ],
   "execution_count": 39
  },
  {
   "metadata": {
    "ExecuteTime": {
     "end_time": "2024-09-28T17:45:40.575419Z",
     "start_time": "2024-09-28T17:45:40.563102Z"
    }
   },
   "cell_type": "code",
   "source": "y",
   "id": "2780b93784b1447b",
   "outputs": [
    {
     "ename": "NameError",
     "evalue": "name 'y' is not defined",
     "output_type": "error",
     "traceback": [
      "\u001B[0;31m---------------------------------------------------------------------------\u001B[0m",
      "\u001B[0;31mNameError\u001B[0m                                 Traceback (most recent call last)",
      "Cell \u001B[0;32mIn[40], line 1\u001B[0m\n\u001B[0;32m----> 1\u001B[0m y\n",
      "\u001B[0;31mNameError\u001B[0m: name 'y' is not defined"
     ]
    }
   ],
   "execution_count": 40
  },
  {
   "metadata": {},
   "cell_type": "markdown",
   "source": "It is basen on minimising the mean squared error",
   "id": "55ad68533adcf47"
  },
  {
   "metadata": {},
   "cell_type": "code",
   "outputs": [],
   "execution_count": null,
   "source": [
    "def MSE(X, y, theta):\n",
    "    predictions = X.dot(theta)\n",
    "    errors = predictions - y\n",
    "    return (1 / 2) * np.sum(errors ** 2)"
   ],
   "id": "47c0c90960b1060c"
  },
  {
   "metadata": {},
   "cell_type": "code",
   "outputs": [],
   "execution_count": null,
   "source": "",
   "id": "3693e290d085fab1"
  },
  {
   "metadata": {
    "ExecuteTime": {
     "start_time": "2024-09-28T17:54:49.856327Z"
    }
   },
   "cell_type": "code",
   "source": [
    "import polars as pl\n",
    "import numpy as np\n",
    "from sklearn.preprocessing import StandardScaler\n",
    "import matplotlib.pyplot as plt\n",
    "\n",
    "# Assuming cumulative_dataset is your Polars DataFrame\n",
    "\n",
    "# Extract features and target from the Polars DataFrame\n",
    "X = cumulative_dataset.drop('804120').to_numpy()  # Features (excluding the target column)\n",
    "y = cumulative_dataset['804120'].to_numpy().reshape(-1, 1)  # Target variable reshaped to be a column vector\n",
    "\n",
    "# Standardize the features\n",
    "scaler = StandardScaler()\n",
    "X = scaler.fit_transform(X)\n",
    "\n",
    "# Add a column of ones to include the bias term (intercept) in the calculation\n",
    "X_b = np.c_[np.ones((X.shape[0], 1)), X]  # X_b = [[1, x1], [1, x2], ..., [1, xn]]\n",
    "\n",
    "# Hyperparameters\n",
    "learning_rate = 0.001  # Reduced learning rate\n",
    "n_iterations = 1000    # Number of iterations\n",
    "m = len(X_b)           # Number of samples\n",
    "\n",
    "# Initialize weights with smaller random values\n",
    "theta = np.random.randn(X_b.shape[1], 1) * 0.01  # Initialize theta for all features including the bias term\n",
    "\n",
    "# Cost Function\n",
    "def compute_cost(X, y, theta):\n",
    "    predictions = X.dot(theta)\n",
    "    errors = predictions - y\n",
    "    return (1 / (2 * m)) * np.sum(errors ** 2)\n",
    "\n",
    "# Gradient Descent Function\n",
    "def gradient_descent(X, y, theta, learning_rate, n_iterations):\n",
    "    cost_history = []\n",
    "    \n",
    "    for iteration in range(n_iterations):\n",
    "        gradients = (1 / m) * X.T.dot(X.dot(theta) - y)\n",
    "        theta = theta - learning_rate * gradients\n",
    "        cost = compute_cost(X, y, theta)\n",
    "        cost_history.append(cost)\n",
    "        \n",
    "        # Optional: print cost every 100 iterations for tracking\n",
    "        if iteration % 100 == 0:\n",
    "            print(f\"Iteration {iteration}, Cost: {cost}\")\n",
    "    \n",
    "    return theta, cost_history\n",
    "\n",
    "# Train the model\n",
    "theta_best, cost_history = gradient_descent(X_b, y, theta, learning_rate, n_iterations)\n",
    "\n",
    "# Print the resulting parameters\n",
    "print(\"Best-fit parameters (theta):\", theta_best)\n",
    "\n"
   ],
   "id": "45b152c7abdba1c5",
   "outputs": [
    {
     "name": "stdout",
     "output_type": "stream",
     "text": [
      "Iteration 0, Cost: 4038556.938989787\n",
      "Iteration 100, Cost: 2003688.3168336034\n",
      "Iteration 200, Cost: 1564050.5730531518\n",
      "Iteration 300, Cost: 1277302.610677349\n",
      "Iteration 400, Cost: 1050061.072995604\n",
      "Iteration 500, Cost: 866145.1065703289\n",
      "Iteration 600, Cost: 716483.1902629769\n",
      "Iteration 700, Cost: 594332.8633510232\n",
      "Iteration 800, Cost: 494440.6326091825\n",
      "Iteration 900, Cost: 412636.34387336834\n",
      "Best-fit parameters (theta): [[-1.32258240e+03]\n",
      " [-3.40362709e+01]\n",
      " [-1.61311675e+02]\n",
      " [-5.51991510e+00]\n",
      " [-9.99789860e+01]\n",
      " [-9.81809062e+01]\n",
      " [ 5.82306622e+01]\n",
      " [-1.74165398e+02]\n",
      " [ 1.35608012e+01]\n",
      " [-1.42634893e+02]\n",
      " [-2.21116342e+02]\n",
      " [-7.81272920e+00]\n",
      " [-1.76886405e+02]\n",
      " [ 1.77721343e+02]\n",
      " [-2.14098160e+02]\n",
      " [-1.41965485e+02]\n",
      " [ 7.65409805e-01]\n",
      " [ 1.43162710e+01]\n",
      " [-2.86196179e+01]\n",
      " [ 1.56866570e+01]\n",
      " [-1.33894955e+02]\n",
      " [ 1.82675374e+00]\n",
      " [-2.36476915e+00]\n",
      " [ 1.49849893e+01]\n",
      " [-7.93430297e-01]\n",
      " [ 2.19023754e+01]\n",
      " [-5.85247459e+01]\n",
      " [ 2.13798581e+01]\n",
      " [-6.24085982e-01]\n",
      " [ 7.34862792e+00]\n",
      " [ 6.08608037e+00]\n",
      " [ 6.59973635e+00]\n",
      " [ 1.16042003e+01]\n",
      " [-6.30159648e+00]\n",
      " [ 8.27520207e-01]\n",
      " [-1.22565146e+02]\n",
      " [-2.71449629e+01]\n",
      " [ 1.04721976e+01]\n",
      " [ 5.60421849e+00]\n",
      " [-2.02825270e+01]\n",
      " [ 5.68632605e+00]\n",
      " [-1.24998760e+01]\n",
      " [ 2.53757810e+00]\n",
      " [-4.90408854e+00]\n",
      " [ 1.72531513e+01]\n",
      " [ 2.22784600e+00]\n",
      " [ 3.71039828e+01]\n",
      " [ 2.03707083e+01]\n",
      " [ 1.67043583e+01]]\n"
     ]
    }
   ],
   "execution_count": null
  },
  {
   "metadata": {},
   "cell_type": "code",
   "outputs": [],
   "execution_count": null,
   "source": [
    "# Plotting the cost history\n",
    "plt.plot(range(n_iterations), cost_history)\n",
    "plt.xlabel(\"Iterations\")\n",
    "plt.ylabel(\"Cost\")\n",
    "plt.title(\"Cost Function Reduction Over Time\")\n",
    "plt.show()\n"
   ],
   "id": "62faf2c665e4eaa8"
  }
 ],
 "metadata": {
  "kernelspec": {
   "display_name": "Python 3",
   "language": "python",
   "name": "python3"
  },
  "language_info": {
   "codemirror_mode": {
    "name": "ipython",
    "version": 2
   },
   "file_extension": ".py",
   "mimetype": "text/x-python",
   "name": "python",
   "nbconvert_exporter": "python",
   "pygments_lexer": "ipython2",
   "version": "2.7.6"
  }
 },
 "nbformat": 4,
 "nbformat_minor": 5
}
